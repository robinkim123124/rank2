{
 "cells": [
  {
   "cell_type": "markdown",
   "id": "d90d334e",
   "metadata": {},
   "source": [
    "## 상품랭킹 알고리즘 "
   ]
  },
  {
   "cell_type": "markdown",
   "id": "407998f2",
   "metadata": {
    "ExecuteTime": {
     "end_time": "2021-07-01T13:40:24.373009Z",
     "start_time": "2021-07-01T13:40:24.360345Z"
    }
   },
   "source": [
    "###  점포 - 역삼점 ,  중분류 - 우유  , 기간 - 21.06.01~21.06.30"
   ]
  },
  {
   "cell_type": "code",
   "execution_count": 2,
   "id": "ece6f807",
   "metadata": {
    "ExecuteTime": {
     "end_time": "2021-07-02T00:10:11.496016Z",
     "start_time": "2021-07-02T00:10:11.482719Z"
    }
   },
   "outputs": [],
   "source": [
    "query='''select master.PRDT_CD,master.PRDT_NM ,master.PRDT_DI_CD,master.PRDT_CAT_CD,\n",
    "master.PRDT_GCODE_CD ,master.PRDT_MCODE_CD ,master.PRDT_DCODE_CD ,\n",
    "sum(detail.SALE_AMT-detail.ENURI_AMT) as all_sale,sum(detail.SALE_QTY) as quantity , master.MARGIN_RATE ,detail.PROFIT_AMT,detail.UCOST_AMT\n",
    "FROM `cds_core.TB_DW_RCIPT_DETAIL` as detail\n",
    "join `cds_core.TB_DW_PRDT_MASTR` as master\n",
    "on detail.PRDT_CD=master.PRDT_CD \n",
    "where detail.BSN_DT>='2021-06-01' and detail.BSN_DT<='2021-06-30' and master.BIZTP_CD='10' and detail.BIZTP_CD='10' and detail.AFLCO_CD='001' and master.AFLCO_CD='001'\n",
    "AND detail.STR_CD BETWEEN '1000' AND '1166'AND detail.SALE_TRGT_YN = 'Y' AND detail.STR_CD='1020' and master.PRDT_MCODE_CD='0088'\n",
    "group by master.PRDT_CD,master.PRDT_NM , master.PRDT_DI_CD,master.PRDT_CAT_CD,master.PRDT_GCODE_CD ,master.PRDT_MCODE_CD ,master.PRDT_DCODE_CD ,master.MARGIN_RATE\n",
    ",detail.PROFIT_AMT,detail.UCOST_AMT\n",
    "having all_sale>0\n",
    "order by all_sale desc'''\n"
   ]
  },
  {
   "cell_type": "code",
   "execution_count": 3,
   "id": "9a28d939",
   "metadata": {
    "ExecuteTime": {
     "end_time": "2021-07-02T00:10:15.142521Z",
     "start_time": "2021-07-02T00:10:11.821486Z"
    }
   },
   "outputs": [],
   "source": [
    "import pandas as pd\n",
    "import matplotlib.pyplot as plt\n",
    "import numpy as np\n",
    "import seaborn as sns"
   ]
  },
  {
   "cell_type": "code",
   "execution_count": 4,
   "id": "bf0da333",
   "metadata": {
    "ExecuteTime": {
     "end_time": "2021-07-02T00:10:15.204548Z",
     "start_time": "2021-07-02T00:10:15.177667Z"
    }
   },
   "outputs": [],
   "source": [
    "df=pd.read_csv(r'C:\\Users\\Administrator\\Desktop\\df.csv')"
   ]
  },
  {
   "cell_type": "code",
   "execution_count": 5,
   "id": "ef643123",
   "metadata": {
    "ExecuteTime": {
     "end_time": "2021-07-02T00:10:15.266656Z",
     "start_time": "2021-07-02T00:10:15.253190Z"
    }
   },
   "outputs": [
    {
     "data": {
      "text/plain": [
       "8801115114611    21\n",
       "8801069221397    16\n",
       "8801121020968    16\n",
       "8801115114154    16\n",
       "8801207090830    15\n",
       "                 ..\n",
       "8801069406404     3\n",
       "8801121024126     3\n",
       "8801069412610     3\n",
       "8801121772874     2\n",
       "8801069302102     1\n",
       "Name: PRDT_CD, Length: 67, dtype: int64"
      ]
     },
     "execution_count": 5,
     "metadata": {},
     "output_type": "execute_result"
    }
   ],
   "source": [
    "df['PRDT_CD'].value_counts()"
   ]
  },
  {
   "cell_type": "markdown",
   "id": "508a7ef5",
   "metadata": {
    "ExecuteTime": {
     "end_time": "2021-07-01T06:48:40.440126Z",
     "start_time": "2021-07-01T06:48:40.432760Z"
    }
   },
   "source": [
    "\n",
    "### Scenario <br><Br>Y= 총매출로 설정하고 XGBoost로 모델링 후 Gini Importance를 통해 총매출에 관련하여 어느정도의 feature importance를 가지는지 확인"
   ]
  },
  {
   "cell_type": "code",
   "execution_count": 6,
   "id": "3d358d77",
   "metadata": {
    "ExecuteTime": {
     "end_time": "2021-07-02T00:10:15.327572Z",
     "start_time": "2021-07-02T00:10:15.299785Z"
    },
    "scrolled": true
   },
   "outputs": [
    {
     "data": {
      "text/html": [
       "<div>\n",
       "<style scoped>\n",
       "    .dataframe tbody tr th:only-of-type {\n",
       "        vertical-align: middle;\n",
       "    }\n",
       "\n",
       "    .dataframe tbody tr th {\n",
       "        vertical-align: top;\n",
       "    }\n",
       "\n",
       "    .dataframe thead th {\n",
       "        text-align: right;\n",
       "    }\n",
       "</style>\n",
       "<table border=\"1\" class=\"dataframe\">\n",
       "  <thead>\n",
       "    <tr style=\"text-align: right;\">\n",
       "      <th></th>\n",
       "      <th>PRDT_CD</th>\n",
       "      <th>PRDT_NM</th>\n",
       "      <th>PRDT_DI_CD</th>\n",
       "      <th>PRDT_CAT_CD</th>\n",
       "      <th>PRDT_GCODE_CD</th>\n",
       "      <th>PRDT_MCODE_CD</th>\n",
       "      <th>PRDT_DCODE_CD</th>\n",
       "      <th>all_sale</th>\n",
       "      <th>quantity</th>\n",
       "      <th>MARGIN_RATE</th>\n",
       "      <th>PROFIT_AMT</th>\n",
       "      <th>UCOST_AMT</th>\n",
       "    </tr>\n",
       "  </thead>\n",
       "  <tbody>\n",
       "    <tr>\n",
       "      <th>0</th>\n",
       "      <td>8801069221397</td>\n",
       "      <td>남양 맛있는우유GT 2입(900ml*2)</td>\n",
       "      <td>30</td>\n",
       "      <td>33</td>\n",
       "      <td>332</td>\n",
       "      <td>88</td>\n",
       "      <td>612</td>\n",
       "      <td>5069700</td>\n",
       "      <td>1310</td>\n",
       "      <td>16.71</td>\n",
       "      <td>1173</td>\n",
       "      <td>2697</td>\n",
       "    </tr>\n",
       "    <tr>\n",
       "      <th>1</th>\n",
       "      <td>8801115111054</td>\n",
       "      <td>서울우유 2.3L</td>\n",
       "      <td>30</td>\n",
       "      <td>33</td>\n",
       "      <td>332</td>\n",
       "      <td>88</td>\n",
       "      <td>612</td>\n",
       "      <td>3635150</td>\n",
       "      <td>667</td>\n",
       "      <td>23.96</td>\n",
       "      <td>1324</td>\n",
       "      <td>4126</td>\n",
       "    </tr>\n",
       "    <tr>\n",
       "      <th>2</th>\n",
       "      <td>8801115114673</td>\n",
       "      <td>서울우유 속편한 저지방 900ml*2입</td>\n",
       "      <td>30</td>\n",
       "      <td>33</td>\n",
       "      <td>332</td>\n",
       "      <td>88</td>\n",
       "      <td>617</td>\n",
       "      <td>2952810</td>\n",
       "      <td>763</td>\n",
       "      <td>27.00</td>\n",
       "      <td>1084</td>\n",
       "      <td>2786</td>\n",
       "    </tr>\n",
       "    <tr>\n",
       "      <th>3</th>\n",
       "      <td>8801115114154</td>\n",
       "      <td>서울우유 1L</td>\n",
       "      <td>30</td>\n",
       "      <td>33</td>\n",
       "      <td>332</td>\n",
       "      <td>88</td>\n",
       "      <td>612</td>\n",
       "      <td>1993900</td>\n",
       "      <td>785</td>\n",
       "      <td>20.33</td>\n",
       "      <td>544</td>\n",
       "      <td>1996</td>\n",
       "    </tr>\n",
       "    <tr>\n",
       "      <th>4</th>\n",
       "      <td>8801207090830</td>\n",
       "      <td>파스퇴르 우유 2입(930ml*2)</td>\n",
       "      <td>30</td>\n",
       "      <td>33</td>\n",
       "      <td>332</td>\n",
       "      <td>88</td>\n",
       "      <td>615</td>\n",
       "      <td>1850700</td>\n",
       "      <td>310</td>\n",
       "      <td>24.00</td>\n",
       "      <td>2217</td>\n",
       "      <td>3753</td>\n",
       "    </tr>\n",
       "  </tbody>\n",
       "</table>\n",
       "</div>"
      ],
      "text/plain": [
       "         PRDT_CD                 PRDT_NM  PRDT_DI_CD  PRDT_CAT_CD  \\\n",
       "0  8801069221397  남양 맛있는우유GT 2입(900ml*2)          30           33   \n",
       "1  8801115111054               서울우유 2.3L          30           33   \n",
       "2  8801115114673   서울우유 속편한 저지방 900ml*2입          30           33   \n",
       "3  8801115114154                 서울우유 1L          30           33   \n",
       "4  8801207090830     파스퇴르 우유 2입(930ml*2)          30           33   \n",
       "\n",
       "   PRDT_GCODE_CD  PRDT_MCODE_CD  PRDT_DCODE_CD  all_sale  quantity  \\\n",
       "0            332             88            612   5069700      1310   \n",
       "1            332             88            612   3635150       667   \n",
       "2            332             88            617   2952810       763   \n",
       "3            332             88            612   1993900       785   \n",
       "4            332             88            615   1850700       310   \n",
       "\n",
       "   MARGIN_RATE  PROFIT_AMT  UCOST_AMT  \n",
       "0        16.71        1173       2697  \n",
       "1        23.96        1324       4126  \n",
       "2        27.00        1084       2786  \n",
       "3        20.33         544       1996  \n",
       "4        24.00        2217       3753  "
      ]
     },
     "execution_count": 6,
     "metadata": {},
     "output_type": "execute_result"
    }
   ],
   "source": [
    "df.head()"
   ]
  },
  {
   "cell_type": "code",
   "execution_count": 7,
   "id": "4dbb2671",
   "metadata": {
    "ExecuteTime": {
     "end_time": "2021-07-02T00:10:15.374423Z",
     "start_time": "2021-07-02T00:10:15.360071Z"
    }
   },
   "outputs": [
    {
     "data": {
      "text/plain": [
       "PRDT_CD          471\n",
       "PRDT_NM          471\n",
       "PRDT_DI_CD       471\n",
       "PRDT_CAT_CD      471\n",
       "PRDT_GCODE_CD    471\n",
       "PRDT_MCODE_CD    471\n",
       "PRDT_DCODE_CD    471\n",
       "all_sale         471\n",
       "quantity         471\n",
       "MARGIN_RATE      471\n",
       "PROFIT_AMT       471\n",
       "UCOST_AMT        471\n",
       "dtype: int64"
      ]
     },
     "execution_count": 7,
     "metadata": {},
     "output_type": "execute_result"
    }
   ],
   "source": [
    "df.count()"
   ]
  },
  {
   "cell_type": "markdown",
   "id": "67b6bace",
   "metadata": {},
   "source": [
    "### 사용 변수 : 판매개수 , 마진율 , 이익금액, 원가금액"
   ]
  },
  {
   "cell_type": "code",
   "execution_count": 8,
   "id": "87a77686",
   "metadata": {
    "ExecuteTime": {
     "end_time": "2021-07-02T00:10:15.421079Z",
     "start_time": "2021-07-02T00:10:15.407434Z"
    }
   },
   "outputs": [],
   "source": [
    "df_new=df[['all_sale','quantity','MARGIN_RATE','PROFIT_AMT','UCOST_AMT','PRDT_NM']]"
   ]
  },
  {
   "cell_type": "code",
   "execution_count": 9,
   "id": "5aad6e57",
   "metadata": {
    "ExecuteTime": {
     "end_time": "2021-07-02T00:10:15.498355Z",
     "start_time": "2021-07-02T00:10:15.484262Z"
    }
   },
   "outputs": [],
   "source": [
    "y=df_new['all_sale']"
   ]
  },
  {
   "cell_type": "code",
   "execution_count": 10,
   "id": "f8d421b4",
   "metadata": {
    "ExecuteTime": {
     "end_time": "2021-07-02T00:10:15.573866Z",
     "start_time": "2021-07-02T00:10:15.563472Z"
    }
   },
   "outputs": [],
   "source": [
    "X = df_new[df_new.columns.difference(['all_sale','PRDT_NM'])]"
   ]
  },
  {
   "cell_type": "code",
   "execution_count": 11,
   "id": "36c8fb77",
   "metadata": {
    "ExecuteTime": {
     "end_time": "2021-07-02T00:10:16.941098Z",
     "start_time": "2021-07-02T00:10:15.637602Z"
    }
   },
   "outputs": [],
   "source": [
    "from sklearn.model_selection import train_test_split"
   ]
  },
  {
   "cell_type": "code",
   "execution_count": 12,
   "id": "e84f0b6d",
   "metadata": {
    "ExecuteTime": {
     "end_time": "2021-07-02T00:10:17.020070Z",
     "start_time": "2021-07-02T00:10:17.007523Z"
    }
   },
   "outputs": [],
   "source": [
    "# train_test_split() 함수로 학습 데이터와 테스트 데이터 분리하기\n",
    "X_train, X_test, y_train, y_test = train_test_split(X, y, test_size=0.3, random_state=1)"
   ]
  },
  {
   "cell_type": "code",
   "execution_count": 13,
   "id": "32dea8cd",
   "metadata": {
    "ExecuteTime": {
     "end_time": "2021-07-02T00:10:17.208185Z",
     "start_time": "2021-07-02T00:10:17.098654Z"
    }
   },
   "outputs": [],
   "source": [
    "from xgboost import XGBRegressor"
   ]
  },
  {
   "cell_type": "code",
   "execution_count": 14,
   "id": "c369dc1c",
   "metadata": {
    "ExecuteTime": {
     "end_time": "2021-07-02T00:10:17.409208Z",
     "start_time": "2021-07-02T00:10:17.301650Z"
    }
   },
   "outputs": [
    {
     "data": {
      "text/plain": [
       "XGBRegressor(base_score=0.5, booster='gbtree', colsample_bylevel=1,\n",
       "             colsample_bynode=1, colsample_bytree=1, gamma=0, gpu_id=-1,\n",
       "             importance_type='gain', interaction_constraints='',\n",
       "             learning_rate=0.300000012, max_delta_step=0, max_depth=6,\n",
       "             min_child_weight=1, missing=nan, monotone_constraints='()',\n",
       "             n_estimators=100, n_jobs=8, num_parallel_tree=1, random_state=0,\n",
       "             reg_alpha=0, reg_lambda=1, scale_pos_weight=1, subsample=1,\n",
       "             tree_method='exact', validate_parameters=1, verbosity=None)"
      ]
     },
     "execution_count": 14,
     "metadata": {},
     "output_type": "execute_result"
    }
   ],
   "source": [
    "model_reg = XGBRegressor()\n",
    "model_reg.fit(X_train, y_train)"
   ]
  },
  {
   "cell_type": "code",
   "execution_count": 15,
   "id": "2648ab4b",
   "metadata": {
    "ExecuteTime": {
     "end_time": "2021-07-02T00:10:17.782734Z",
     "start_time": "2021-07-02T00:10:17.503194Z"
    }
   },
   "outputs": [
    {
     "data": {
      "text/plain": [
       "<BarContainer object of 4 artists>"
      ]
     },
     "execution_count": 15,
     "metadata": {},
     "output_type": "execute_result"
    },
    {
     "data": {
      "image/png": "[encoded data removed]",
      "text/plain": [
       "<Figure size 432x288 with 1 Axes>"
      ]
     },
     "metadata": {
      "needs_background": "light"
     },
     "output_type": "display_data"
    }
   ],
   "source": [
    "import matplotlib.pyplot as plt\n",
    "plt.bar(X.columns, model_reg.feature_importances_)"
   ]
  },
  {
   "cell_type": "code",
   "execution_count": 16,
   "id": "4c90d1e5",
   "metadata": {
    "ExecuteTime": {
     "end_time": "2021-07-02T00:10:17.937554Z",
     "start_time": "2021-07-02T00:10:17.876013Z"
    }
   },
   "outputs": [
    {
     "data": {
      "text/plain": [
       "[0.0006034811, 0.013880213, 0.00878244, 0.97673386]"
      ]
     },
     "execution_count": 16,
     "metadata": {},
     "output_type": "execute_result"
    }
   ],
   "source": [
    "list(model_reg.feature_importances_)"
   ]
  },
  {
   "cell_type": "markdown",
   "id": "b02a5187",
   "metadata": {},
   "source": [
    "### 변수들을 활용하여 Scoring"
   ]
  },
  {
   "cell_type": "code",
   "execution_count": 17,
   "id": "cdcd998e",
   "metadata": {
    "ExecuteTime": {
     "end_time": "2021-07-02T00:10:18.106898Z",
     "start_time": "2021-07-02T00:10:18.092509Z"
    }
   },
   "outputs": [
    {
     "data": {
      "text/html": [
       "<div>\n",
       "<style scoped>\n",
       "    .dataframe tbody tr th:only-of-type {\n",
       "        vertical-align: middle;\n",
       "    }\n",
       "\n",
       "    .dataframe tbody tr th {\n",
       "        vertical-align: top;\n",
       "    }\n",
       "\n",
       "    .dataframe thead th {\n",
       "        text-align: right;\n",
       "    }\n",
       "</style>\n",
       "<table border=\"1\" class=\"dataframe\">\n",
       "  <thead>\n",
       "    <tr style=\"text-align: right;\">\n",
       "      <th></th>\n",
       "      <th>all_sale</th>\n",
       "      <th>quantity</th>\n",
       "      <th>MARGIN_RATE</th>\n",
       "      <th>PROFIT_AMT</th>\n",
       "      <th>UCOST_AMT</th>\n",
       "      <th>PRDT_NM</th>\n",
       "    </tr>\n",
       "  </thead>\n",
       "  <tbody>\n",
       "    <tr>\n",
       "      <th>0</th>\n",
       "      <td>5069700</td>\n",
       "      <td>1310</td>\n",
       "      <td>16.71</td>\n",
       "      <td>1173</td>\n",
       "      <td>2697</td>\n",
       "      <td>남양 맛있는우유GT 2입(900ml*2)</td>\n",
       "    </tr>\n",
       "    <tr>\n",
       "      <th>1</th>\n",
       "      <td>3635150</td>\n",
       "      <td>667</td>\n",
       "      <td>23.96</td>\n",
       "      <td>1324</td>\n",
       "      <td>4126</td>\n",
       "      <td>서울우유 2.3L</td>\n",
       "    </tr>\n",
       "    <tr>\n",
       "      <th>2</th>\n",
       "      <td>2952810</td>\n",
       "      <td>763</td>\n",
       "      <td>27.00</td>\n",
       "      <td>1084</td>\n",
       "      <td>2786</td>\n",
       "      <td>서울우유 속편한 저지방 900ml*2입</td>\n",
       "    </tr>\n",
       "    <tr>\n",
       "      <th>3</th>\n",
       "      <td>1993900</td>\n",
       "      <td>785</td>\n",
       "      <td>20.33</td>\n",
       "      <td>544</td>\n",
       "      <td>1996</td>\n",
       "      <td>서울우유 1L</td>\n",
       "    </tr>\n",
       "    <tr>\n",
       "      <th>4</th>\n",
       "      <td>1850700</td>\n",
       "      <td>310</td>\n",
       "      <td>24.00</td>\n",
       "      <td>2217</td>\n",
       "      <td>3753</td>\n",
       "      <td>파스퇴르 우유 2입(930ml*2)</td>\n",
       "    </tr>\n",
       "    <tr>\n",
       "      <th>...</th>\n",
       "      <td>...</td>\n",
       "      <td>...</td>\n",
       "      <td>...</td>\n",
       "      <td>...</td>\n",
       "      <td>...</td>\n",
       "      <td>...</td>\n",
       "    </tr>\n",
       "    <tr>\n",
       "      <th>466</th>\n",
       "      <td>1260</td>\n",
       "      <td>1</td>\n",
       "      <td>26.39</td>\n",
       "      <td>-531</td>\n",
       "      <td>1791</td>\n",
       "      <td>남양 맛있는우유GT 900ml</td>\n",
       "    </tr>\n",
       "    <tr>\n",
       "      <th>467</th>\n",
       "      <td>1190</td>\n",
       "      <td>1</td>\n",
       "      <td>25.07</td>\n",
       "      <td>-366</td>\n",
       "      <td>1556</td>\n",
       "      <td>파스퇴르 후레쉬우유 3입(200ml*3)</td>\n",
       "    </tr>\n",
       "    <tr>\n",
       "      <th>468</th>\n",
       "      <td>1180</td>\n",
       "      <td>1</td>\n",
       "      <td>20.33</td>\n",
       "      <td>-816</td>\n",
       "      <td>1996</td>\n",
       "      <td>서울우유 1L</td>\n",
       "    </tr>\n",
       "    <tr>\n",
       "      <th>469</th>\n",
       "      <td>1100</td>\n",
       "      <td>1</td>\n",
       "      <td>27.49</td>\n",
       "      <td>-597</td>\n",
       "      <td>1697</td>\n",
       "      <td>서울우유 3입(200ml*3)</td>\n",
       "    </tr>\n",
       "    <tr>\n",
       "      <th>470</th>\n",
       "      <td>690</td>\n",
       "      <td>1</td>\n",
       "      <td>24.08</td>\n",
       "      <td>-438</td>\n",
       "      <td>1128</td>\n",
       "      <td>서울우유 500ml</td>\n",
       "    </tr>\n",
       "  </tbody>\n",
       "</table>\n",
       "<p>471 rows × 6 columns</p>\n",
       "</div>"
      ],
      "text/plain": [
       "     all_sale  quantity  MARGIN_RATE  PROFIT_AMT  UCOST_AMT  \\\n",
       "0     5069700      1310        16.71        1173       2697   \n",
       "1     3635150       667        23.96        1324       4126   \n",
       "2     2952810       763        27.00        1084       2786   \n",
       "3     1993900       785        20.33         544       1996   \n",
       "4     1850700       310        24.00        2217       3753   \n",
       "..        ...       ...          ...         ...        ...   \n",
       "466      1260         1        26.39        -531       1791   \n",
       "467      1190         1        25.07        -366       1556   \n",
       "468      1180         1        20.33        -816       1996   \n",
       "469      1100         1        27.49        -597       1697   \n",
       "470       690         1        24.08        -438       1128   \n",
       "\n",
       "                    PRDT_NM  \n",
       "0    남양 맛있는우유GT 2입(900ml*2)  \n",
       "1                 서울우유 2.3L  \n",
       "2     서울우유 속편한 저지방 900ml*2입  \n",
       "3                   서울우유 1L  \n",
       "4       파스퇴르 우유 2입(930ml*2)  \n",
       "..                      ...  \n",
       "466        남양 맛있는우유GT 900ml  \n",
       "467  파스퇴르 후레쉬우유 3입(200ml*3)  \n",
       "468                 서울우유 1L  \n",
       "469        서울우유 3입(200ml*3)  \n",
       "470              서울우유 500ml  \n",
       "\n",
       "[471 rows x 6 columns]"
      ]
     },
     "execution_count": 17,
     "metadata": {},
     "output_type": "execute_result"
    }
   ],
   "source": [
    "df_new"
   ]
  },
  {
   "cell_type": "code",
   "execution_count": 18,
   "id": "2d98ffbd",
   "metadata": {
    "ExecuteTime": {
     "end_time": "2021-07-02T00:10:18.232152Z",
     "start_time": "2021-07-02T00:10:18.186570Z"
    }
   },
   "outputs": [],
   "source": [
    "score=0.0006*df_new['MARGIN_RATE']+0.02*df_new['PROFIT_AMT']+0.008*df_new['UCOST_AMT']+0.97*df_new['quantity']"
   ]
  },
  {
   "cell_type": "code",
   "execution_count": 19,
   "id": "368b13b8",
   "metadata": {
    "ExecuteTime": {
     "end_time": "2021-07-02T00:10:18.341398Z",
     "start_time": "2021-07-02T00:10:18.327163Z"
    }
   },
   "outputs": [
    {
     "data": {
      "text/plain": [
       "0      1315.746026\n",
       "1       706.492376\n",
       "2       784.094200\n",
       "3       788.310198\n",
       "4       375.078400\n",
       "          ...     \n",
       "466       4.693834\n",
       "467       6.113042\n",
       "468       0.630198\n",
       "469       2.622494\n",
       "470       1.248448\n",
       "Length: 471, dtype: float64"
      ]
     },
     "execution_count": 19,
     "metadata": {},
     "output_type": "execute_result"
    }
   ],
   "source": [
    "score"
   ]
  },
  {
   "cell_type": "code",
   "execution_count": 20,
   "id": "da505120",
   "metadata": {
    "ExecuteTime": {
     "end_time": "2021-07-02T00:10:18.450822Z",
     "start_time": "2021-07-02T00:10:18.436430Z"
    }
   },
   "outputs": [
    {
     "name": "stderr",
     "output_type": "stream",
     "text": [
      "<ipython-input-20-3bd4abb0edd7>:1: SettingWithCopyWarning: \n",
      "A value is trying to be set on a copy of a slice from a DataFrame.\n",
      "Try using .loc[row_indexer,col_indexer] = value instead\n",
      "\n",
      "See the caveats in the documentation: https://pandas.pydata.org/pandas-docs/stable/user_guide/indexing.html#returning-a-view-versus-a-copy\n",
      "  df_new['score']=score\n"
     ]
    }
   ],
   "source": [
    "df_new['score']=score"
   ]
  },
  {
   "cell_type": "code",
   "execution_count": 21,
   "id": "9cd1a971",
   "metadata": {
    "ExecuteTime": {
     "end_time": "2021-07-02T00:10:18.576255Z",
     "start_time": "2021-07-02T00:10:18.551158Z"
    }
   },
   "outputs": [
    {
     "data": {
      "text/html": [
       "<div>\n",
       "<style scoped>\n",
       "    .dataframe tbody tr th:only-of-type {\n",
       "        vertical-align: middle;\n",
       "    }\n",
       "\n",
       "    .dataframe tbody tr th {\n",
       "        vertical-align: top;\n",
       "    }\n",
       "\n",
       "    .dataframe thead th {\n",
       "        text-align: right;\n",
       "    }\n",
       "</style>\n",
       "<table border=\"1\" class=\"dataframe\">\n",
       "  <thead>\n",
       "    <tr style=\"text-align: right;\">\n",
       "      <th></th>\n",
       "      <th>all_sale</th>\n",
       "      <th>quantity</th>\n",
       "      <th>MARGIN_RATE</th>\n",
       "      <th>PROFIT_AMT</th>\n",
       "      <th>UCOST_AMT</th>\n",
       "      <th>PRDT_NM</th>\n",
       "      <th>score</th>\n",
       "    </tr>\n",
       "  </thead>\n",
       "  <tbody>\n",
       "    <tr>\n",
       "      <th>0</th>\n",
       "      <td>5069700</td>\n",
       "      <td>1310</td>\n",
       "      <td>16.71</td>\n",
       "      <td>1173</td>\n",
       "      <td>2697</td>\n",
       "      <td>남양 맛있는우유GT 2입(900ml*2)</td>\n",
       "      <td>1315.746026</td>\n",
       "    </tr>\n",
       "    <tr>\n",
       "      <th>1</th>\n",
       "      <td>3635150</td>\n",
       "      <td>667</td>\n",
       "      <td>23.96</td>\n",
       "      <td>1324</td>\n",
       "      <td>4126</td>\n",
       "      <td>서울우유 2.3L</td>\n",
       "      <td>706.492376</td>\n",
       "    </tr>\n",
       "    <tr>\n",
       "      <th>2</th>\n",
       "      <td>2952810</td>\n",
       "      <td>763</td>\n",
       "      <td>27.00</td>\n",
       "      <td>1084</td>\n",
       "      <td>2786</td>\n",
       "      <td>서울우유 속편한 저지방 900ml*2입</td>\n",
       "      <td>784.094200</td>\n",
       "    </tr>\n",
       "    <tr>\n",
       "      <th>3</th>\n",
       "      <td>1993900</td>\n",
       "      <td>785</td>\n",
       "      <td>20.33</td>\n",
       "      <td>544</td>\n",
       "      <td>1996</td>\n",
       "      <td>서울우유 1L</td>\n",
       "      <td>788.310198</td>\n",
       "    </tr>\n",
       "    <tr>\n",
       "      <th>4</th>\n",
       "      <td>1850700</td>\n",
       "      <td>310</td>\n",
       "      <td>24.00</td>\n",
       "      <td>2217</td>\n",
       "      <td>3753</td>\n",
       "      <td>파스퇴르 우유 2입(930ml*2)</td>\n",
       "      <td>375.078400</td>\n",
       "    </tr>\n",
       "    <tr>\n",
       "      <th>...</th>\n",
       "      <td>...</td>\n",
       "      <td>...</td>\n",
       "      <td>...</td>\n",
       "      <td>...</td>\n",
       "      <td>...</td>\n",
       "      <td>...</td>\n",
       "      <td>...</td>\n",
       "    </tr>\n",
       "    <tr>\n",
       "      <th>466</th>\n",
       "      <td>1260</td>\n",
       "      <td>1</td>\n",
       "      <td>26.39</td>\n",
       "      <td>-531</td>\n",
       "      <td>1791</td>\n",
       "      <td>남양 맛있는우유GT 900ml</td>\n",
       "      <td>4.693834</td>\n",
       "    </tr>\n",
       "    <tr>\n",
       "      <th>467</th>\n",
       "      <td>1190</td>\n",
       "      <td>1</td>\n",
       "      <td>25.07</td>\n",
       "      <td>-366</td>\n",
       "      <td>1556</td>\n",
       "      <td>파스퇴르 후레쉬우유 3입(200ml*3)</td>\n",
       "      <td>6.113042</td>\n",
       "    </tr>\n",
       "    <tr>\n",
       "      <th>468</th>\n",
       "      <td>1180</td>\n",
       "      <td>1</td>\n",
       "      <td>20.33</td>\n",
       "      <td>-816</td>\n",
       "      <td>1996</td>\n",
       "      <td>서울우유 1L</td>\n",
       "      <td>0.630198</td>\n",
       "    </tr>\n",
       "    <tr>\n",
       "      <th>469</th>\n",
       "      <td>1100</td>\n",
       "      <td>1</td>\n",
       "      <td>27.49</td>\n",
       "      <td>-597</td>\n",
       "      <td>1697</td>\n",
       "      <td>서울우유 3입(200ml*3)</td>\n",
       "      <td>2.622494</td>\n",
       "    </tr>\n",
       "    <tr>\n",
       "      <th>470</th>\n",
       "      <td>690</td>\n",
       "      <td>1</td>\n",
       "      <td>24.08</td>\n",
       "      <td>-438</td>\n",
       "      <td>1128</td>\n",
       "      <td>서울우유 500ml</td>\n",
       "      <td>1.248448</td>\n",
       "    </tr>\n",
       "  </tbody>\n",
       "</table>\n",
       "<p>471 rows × 7 columns</p>\n",
       "</div>"
      ],
      "text/plain": [
       "     all_sale  quantity  MARGIN_RATE  PROFIT_AMT  UCOST_AMT  \\\n",
       "0     5069700      1310        16.71        1173       2697   \n",
       "1     3635150       667        23.96        1324       4126   \n",
       "2     2952810       763        27.00        1084       2786   \n",
       "3     1993900       785        20.33         544       1996   \n",
       "4     1850700       310        24.00        2217       3753   \n",
       "..        ...       ...          ...         ...        ...   \n",
       "466      1260         1        26.39        -531       1791   \n",
       "467      1190         1        25.07        -366       1556   \n",
       "468      1180         1        20.33        -816       1996   \n",
       "469      1100         1        27.49        -597       1697   \n",
       "470       690         1        24.08        -438       1128   \n",
       "\n",
       "                    PRDT_NM        score  \n",
       "0    남양 맛있는우유GT 2입(900ml*2)  1315.746026  \n",
       "1                 서울우유 2.3L   706.492376  \n",
       "2     서울우유 속편한 저지방 900ml*2입   784.094200  \n",
       "3                   서울우유 1L   788.310198  \n",
       "4       파스퇴르 우유 2입(930ml*2)   375.078400  \n",
       "..                      ...          ...  \n",
       "466        남양 맛있는우유GT 900ml     4.693834  \n",
       "467  파스퇴르 후레쉬우유 3입(200ml*3)     6.113042  \n",
       "468                 서울우유 1L     0.630198  \n",
       "469        서울우유 3입(200ml*3)     2.622494  \n",
       "470              서울우유 500ml     1.248448  \n",
       "\n",
       "[471 rows x 7 columns]"
      ]
     },
     "execution_count": 21,
     "metadata": {},
     "output_type": "execute_result"
    }
   ],
   "source": [
    "df_new"
   ]
  },
  {
   "cell_type": "code",
   "execution_count": 22,
   "id": "d6f07291",
   "metadata": {
    "ExecuteTime": {
     "end_time": "2021-07-02T00:10:18.699482Z",
     "start_time": "2021-07-02T00:10:18.671152Z"
    }
   },
   "outputs": [
    {
     "data": {
      "text/html": [
       "<div>\n",
       "<style scoped>\n",
       "    .dataframe tbody tr th:only-of-type {\n",
       "        vertical-align: middle;\n",
       "    }\n",
       "\n",
       "    .dataframe tbody tr th {\n",
       "        vertical-align: top;\n",
       "    }\n",
       "\n",
       "    .dataframe thead th {\n",
       "        text-align: right;\n",
       "    }\n",
       "</style>\n",
       "<table border=\"1\" class=\"dataframe\">\n",
       "  <thead>\n",
       "    <tr style=\"text-align: right;\">\n",
       "      <th></th>\n",
       "      <th>all_sale</th>\n",
       "      <th>quantity</th>\n",
       "      <th>MARGIN_RATE</th>\n",
       "      <th>PROFIT_AMT</th>\n",
       "      <th>UCOST_AMT</th>\n",
       "      <th>PRDT_NM</th>\n",
       "      <th>score</th>\n",
       "    </tr>\n",
       "  </thead>\n",
       "  <tbody>\n",
       "    <tr>\n",
       "      <th>0</th>\n",
       "      <td>5069700</td>\n",
       "      <td>1310</td>\n",
       "      <td>16.71</td>\n",
       "      <td>1173</td>\n",
       "      <td>2697</td>\n",
       "      <td>남양 맛있는우유GT 2입(900ml*2)</td>\n",
       "      <td>1315.746026</td>\n",
       "    </tr>\n",
       "    <tr>\n",
       "      <th>3</th>\n",
       "      <td>1993900</td>\n",
       "      <td>785</td>\n",
       "      <td>20.33</td>\n",
       "      <td>544</td>\n",
       "      <td>1996</td>\n",
       "      <td>서울우유 1L</td>\n",
       "      <td>788.310198</td>\n",
       "    </tr>\n",
       "    <tr>\n",
       "      <th>2</th>\n",
       "      <td>2952810</td>\n",
       "      <td>763</td>\n",
       "      <td>27.00</td>\n",
       "      <td>1084</td>\n",
       "      <td>2786</td>\n",
       "      <td>서울우유 속편한 저지방 900ml*2입</td>\n",
       "      <td>784.094200</td>\n",
       "    </tr>\n",
       "    <tr>\n",
       "      <th>1</th>\n",
       "      <td>3635150</td>\n",
       "      <td>667</td>\n",
       "      <td>23.96</td>\n",
       "      <td>1324</td>\n",
       "      <td>4126</td>\n",
       "      <td>서울우유 2.3L</td>\n",
       "      <td>706.492376</td>\n",
       "    </tr>\n",
       "    <tr>\n",
       "      <th>136</th>\n",
       "      <td>53820</td>\n",
       "      <td>9</td>\n",
       "      <td>30.00</td>\n",
       "      <td>19467</td>\n",
       "      <td>3817</td>\n",
       "      <td>덴마크 산양우유 750ml</td>\n",
       "      <td>428.624000</td>\n",
       "    </tr>\n",
       "    <tr>\n",
       "      <th>...</th>\n",
       "      <td>...</td>\n",
       "      <td>...</td>\n",
       "      <td>...</td>\n",
       "      <td>...</td>\n",
       "      <td>...</td>\n",
       "      <td>...</td>\n",
       "      <td>...</td>\n",
       "    </tr>\n",
       "    <tr>\n",
       "      <th>300</th>\n",
       "      <td>9960</td>\n",
       "      <td>4</td>\n",
       "      <td>33.01</td>\n",
       "      <td>-3324</td>\n",
       "      <td>3321</td>\n",
       "      <td>파스퇴르 소화가 잘되는 우유(700ml*2입)</td>\n",
       "      <td>-36.012194</td>\n",
       "    </tr>\n",
       "    <tr>\n",
       "      <th>359</th>\n",
       "      <td>6080</td>\n",
       "      <td>4</td>\n",
       "      <td>26.00</td>\n",
       "      <td>-2908</td>\n",
       "      <td>2247</td>\n",
       "      <td>서울 밀크랩 고단백저지방우유 900ml</td>\n",
       "      <td>-36.288400</td>\n",
       "    </tr>\n",
       "    <tr>\n",
       "      <th>351</th>\n",
       "      <td>6560</td>\n",
       "      <td>4</td>\n",
       "      <td>27.99</td>\n",
       "      <td>-3176</td>\n",
       "      <td>2434</td>\n",
       "      <td>서울우유 그린라벨 1L</td>\n",
       "      <td>-40.151206</td>\n",
       "    </tr>\n",
       "    <tr>\n",
       "      <th>314</th>\n",
       "      <td>8680</td>\n",
       "      <td>7</td>\n",
       "      <td>31.49</td>\n",
       "      <td>-3213</td>\n",
       "      <td>1699</td>\n",
       "      <td>고칼슘 저지방 소화 잘되는 우유 900ML</td>\n",
       "      <td>-43.859106</td>\n",
       "    </tr>\n",
       "    <tr>\n",
       "      <th>288</th>\n",
       "      <td>11200</td>\n",
       "      <td>5</td>\n",
       "      <td>27.02</td>\n",
       "      <td>-4635</td>\n",
       "      <td>3167</td>\n",
       "      <td>남양 맛있는우유GT 저지방 2입(900ml*2)</td>\n",
       "      <td>-62.497788</td>\n",
       "    </tr>\n",
       "  </tbody>\n",
       "</table>\n",
       "<p>471 rows × 7 columns</p>\n",
       "</div>"
      ],
      "text/plain": [
       "     all_sale  quantity  MARGIN_RATE  PROFIT_AMT  UCOST_AMT  \\\n",
       "0     5069700      1310        16.71        1173       2697   \n",
       "3     1993900       785        20.33         544       1996   \n",
       "2     2952810       763        27.00        1084       2786   \n",
       "1     3635150       667        23.96        1324       4126   \n",
       "136     53820         9        30.00       19467       3817   \n",
       "..        ...       ...          ...         ...        ...   \n",
       "300      9960         4        33.01       -3324       3321   \n",
       "359      6080         4        26.00       -2908       2247   \n",
       "351      6560         4        27.99       -3176       2434   \n",
       "314      8680         7        31.49       -3213       1699   \n",
       "288     11200         5        27.02       -4635       3167   \n",
       "\n",
       "                        PRDT_NM        score  \n",
       "0        남양 맛있는우유GT 2입(900ml*2)  1315.746026  \n",
       "3                       서울우유 1L   788.310198  \n",
       "2         서울우유 속편한 저지방 900ml*2입   784.094200  \n",
       "1                     서울우유 2.3L   706.492376  \n",
       "136              덴마크 산양우유 750ml   428.624000  \n",
       "..                          ...          ...  \n",
       "300   파스퇴르 소화가 잘되는 우유(700ml*2입)   -36.012194  \n",
       "359       서울 밀크랩 고단백저지방우유 900ml   -36.288400  \n",
       "351                서울우유 그린라벨 1L   -40.151206  \n",
       "314     고칼슘 저지방 소화 잘되는 우유 900ML   -43.859106  \n",
       "288  남양 맛있는우유GT 저지방 2입(900ml*2)   -62.497788  \n",
       "\n",
       "[471 rows x 7 columns]"
      ]
     },
     "execution_count": 22,
     "metadata": {},
     "output_type": "execute_result"
    }
   ],
   "source": [
    "df_new=df_new.sort_values(by='score',ascending=False);df_new"
   ]
  },
  {
   "cell_type": "code",
   "execution_count": 23,
   "id": "a4bc2551",
   "metadata": {
    "ExecuteTime": {
     "end_time": "2021-07-02T00:10:18.824102Z",
     "start_time": "2021-07-02T00:10:18.793324Z"
    }
   },
   "outputs": [
    {
     "data": {
      "text/html": [
       "<div>\n",
       "<style scoped>\n",
       "    .dataframe tbody tr th:only-of-type {\n",
       "        vertical-align: middle;\n",
       "    }\n",
       "\n",
       "    .dataframe tbody tr th {\n",
       "        vertical-align: top;\n",
       "    }\n",
       "\n",
       "    .dataframe thead th {\n",
       "        text-align: right;\n",
       "    }\n",
       "</style>\n",
       "<table border=\"1\" class=\"dataframe\">\n",
       "  <thead>\n",
       "    <tr style=\"text-align: right;\">\n",
       "      <th></th>\n",
       "      <th>all_sale</th>\n",
       "      <th>quantity</th>\n",
       "      <th>MARGIN_RATE</th>\n",
       "      <th>PROFIT_AMT</th>\n",
       "      <th>UCOST_AMT</th>\n",
       "      <th>PRDT_NM</th>\n",
       "      <th>score</th>\n",
       "    </tr>\n",
       "  </thead>\n",
       "  <tbody>\n",
       "    <tr>\n",
       "      <th>0</th>\n",
       "      <td>5069700</td>\n",
       "      <td>1310</td>\n",
       "      <td>16.71</td>\n",
       "      <td>1173</td>\n",
       "      <td>2697</td>\n",
       "      <td>남양 맛있는우유GT 2입(900ml*2)</td>\n",
       "      <td>1315.746026</td>\n",
       "    </tr>\n",
       "    <tr>\n",
       "      <th>1</th>\n",
       "      <td>1993900</td>\n",
       "      <td>785</td>\n",
       "      <td>20.33</td>\n",
       "      <td>544</td>\n",
       "      <td>1996</td>\n",
       "      <td>서울우유 1L</td>\n",
       "      <td>788.310198</td>\n",
       "    </tr>\n",
       "    <tr>\n",
       "      <th>2</th>\n",
       "      <td>2952810</td>\n",
       "      <td>763</td>\n",
       "      <td>27.00</td>\n",
       "      <td>1084</td>\n",
       "      <td>2786</td>\n",
       "      <td>서울우유 속편한 저지방 900ml*2입</td>\n",
       "      <td>784.094200</td>\n",
       "    </tr>\n",
       "    <tr>\n",
       "      <th>3</th>\n",
       "      <td>3635150</td>\n",
       "      <td>667</td>\n",
       "      <td>23.96</td>\n",
       "      <td>1324</td>\n",
       "      <td>4126</td>\n",
       "      <td>서울우유 2.3L</td>\n",
       "      <td>706.492376</td>\n",
       "    </tr>\n",
       "    <tr>\n",
       "      <th>4</th>\n",
       "      <td>53820</td>\n",
       "      <td>9</td>\n",
       "      <td>30.00</td>\n",
       "      <td>19467</td>\n",
       "      <td>3817</td>\n",
       "      <td>덴마크 산양우유 750ml</td>\n",
       "      <td>428.624000</td>\n",
       "    </tr>\n",
       "    <tr>\n",
       "      <th>...</th>\n",
       "      <td>...</td>\n",
       "      <td>...</td>\n",
       "      <td>...</td>\n",
       "      <td>...</td>\n",
       "      <td>...</td>\n",
       "      <td>...</td>\n",
       "      <td>...</td>\n",
       "    </tr>\n",
       "    <tr>\n",
       "      <th>466</th>\n",
       "      <td>9960</td>\n",
       "      <td>4</td>\n",
       "      <td>33.01</td>\n",
       "      <td>-3324</td>\n",
       "      <td>3321</td>\n",
       "      <td>파스퇴르 소화가 잘되는 우유(700ml*2입)</td>\n",
       "      <td>-36.012194</td>\n",
       "    </tr>\n",
       "    <tr>\n",
       "      <th>467</th>\n",
       "      <td>6080</td>\n",
       "      <td>4</td>\n",
       "      <td>26.00</td>\n",
       "      <td>-2908</td>\n",
       "      <td>2247</td>\n",
       "      <td>서울 밀크랩 고단백저지방우유 900ml</td>\n",
       "      <td>-36.288400</td>\n",
       "    </tr>\n",
       "    <tr>\n",
       "      <th>468</th>\n",
       "      <td>6560</td>\n",
       "      <td>4</td>\n",
       "      <td>27.99</td>\n",
       "      <td>-3176</td>\n",
       "      <td>2434</td>\n",
       "      <td>서울우유 그린라벨 1L</td>\n",
       "      <td>-40.151206</td>\n",
       "    </tr>\n",
       "    <tr>\n",
       "      <th>469</th>\n",
       "      <td>8680</td>\n",
       "      <td>7</td>\n",
       "      <td>31.49</td>\n",
       "      <td>-3213</td>\n",
       "      <td>1699</td>\n",
       "      <td>고칼슘 저지방 소화 잘되는 우유 900ML</td>\n",
       "      <td>-43.859106</td>\n",
       "    </tr>\n",
       "    <tr>\n",
       "      <th>470</th>\n",
       "      <td>11200</td>\n",
       "      <td>5</td>\n",
       "      <td>27.02</td>\n",
       "      <td>-4635</td>\n",
       "      <td>3167</td>\n",
       "      <td>남양 맛있는우유GT 저지방 2입(900ml*2)</td>\n",
       "      <td>-62.497788</td>\n",
       "    </tr>\n",
       "  </tbody>\n",
       "</table>\n",
       "<p>471 rows × 7 columns</p>\n",
       "</div>"
      ],
      "text/plain": [
       "     all_sale  quantity  MARGIN_RATE  PROFIT_AMT  UCOST_AMT  \\\n",
       "0     5069700      1310        16.71        1173       2697   \n",
       "1     1993900       785        20.33         544       1996   \n",
       "2     2952810       763        27.00        1084       2786   \n",
       "3     3635150       667        23.96        1324       4126   \n",
       "4       53820         9        30.00       19467       3817   \n",
       "..        ...       ...          ...         ...        ...   \n",
       "466      9960         4        33.01       -3324       3321   \n",
       "467      6080         4        26.00       -2908       2247   \n",
       "468      6560         4        27.99       -3176       2434   \n",
       "469      8680         7        31.49       -3213       1699   \n",
       "470     11200         5        27.02       -4635       3167   \n",
       "\n",
       "                        PRDT_NM        score  \n",
       "0        남양 맛있는우유GT 2입(900ml*2)  1315.746026  \n",
       "1                       서울우유 1L   788.310198  \n",
       "2         서울우유 속편한 저지방 900ml*2입   784.094200  \n",
       "3                     서울우유 2.3L   706.492376  \n",
       "4                덴마크 산양우유 750ml   428.624000  \n",
       "..                          ...          ...  \n",
       "466   파스퇴르 소화가 잘되는 우유(700ml*2입)   -36.012194  \n",
       "467       서울 밀크랩 고단백저지방우유 900ml   -36.288400  \n",
       "468                서울우유 그린라벨 1L   -40.151206  \n",
       "469     고칼슘 저지방 소화 잘되는 우유 900ML   -43.859106  \n",
       "470  남양 맛있는우유GT 저지방 2입(900ml*2)   -62.497788  \n",
       "\n",
       "[471 rows x 7 columns]"
      ]
     },
     "execution_count": 23,
     "metadata": {},
     "output_type": "execute_result"
    }
   ],
   "source": [
    "df_new.reset_index(drop=True,inplace=True);df_new"
   ]
  },
  {
   "cell_type": "code",
   "execution_count": 24,
   "id": "83712b4b",
   "metadata": {
    "ExecuteTime": {
     "end_time": "2021-07-02T00:10:18.933331Z",
     "start_time": "2021-07-02T00:10:18.918169Z"
    }
   },
   "outputs": [],
   "source": [
    "df_new['RANK']=df_new.index+1"
   ]
  },
  {
   "cell_type": "markdown",
   "id": "e6868a72",
   "metadata": {},
   "source": [
    "### 스코어에 따른 랭킹 산정"
   ]
  },
  {
   "cell_type": "code",
   "execution_count": 25,
   "id": "4fc06898",
   "metadata": {
    "ExecuteTime": {
     "end_time": "2021-07-02T00:10:19.044174Z",
     "start_time": "2021-07-02T00:10:19.029325Z"
    }
   },
   "outputs": [],
   "source": [
    "df_Rank=df_new[['RANK','PRDT_NM','score','all_sale']]"
   ]
  },
  {
   "cell_type": "code",
   "execution_count": 29,
   "id": "164eaa75",
   "metadata": {
    "ExecuteTime": {
     "end_time": "2021-07-02T00:10:34.512549Z",
     "start_time": "2021-07-02T00:10:34.489199Z"
    }
   },
   "outputs": [
    {
     "data": {
      "text/html": [
       "<div>\n",
       "<style scoped>\n",
       "    .dataframe tbody tr th:only-of-type {\n",
       "        vertical-align: middle;\n",
       "    }\n",
       "\n",
       "    .dataframe tbody tr th {\n",
       "        vertical-align: top;\n",
       "    }\n",
       "\n",
       "    .dataframe thead th {\n",
       "        text-align: right;\n",
       "    }\n",
       "</style>\n",
       "<table border=\"1\" class=\"dataframe\">\n",
       "  <thead>\n",
       "    <tr style=\"text-align: right;\">\n",
       "      <th></th>\n",
       "      <th>RANK</th>\n",
       "      <th>PRDT_NM</th>\n",
       "      <th>score</th>\n",
       "      <th>all_sale</th>\n",
       "    </tr>\n",
       "  </thead>\n",
       "  <tbody>\n",
       "    <tr>\n",
       "      <th>0</th>\n",
       "      <td>1</td>\n",
       "      <td>남양 맛있는우유GT 2입(900ml*2)</td>\n",
       "      <td>1315.746026</td>\n",
       "      <td>5069700</td>\n",
       "    </tr>\n",
       "    <tr>\n",
       "      <th>1</th>\n",
       "      <td>2</td>\n",
       "      <td>서울우유 1L</td>\n",
       "      <td>788.310198</td>\n",
       "      <td>1993900</td>\n",
       "    </tr>\n",
       "    <tr>\n",
       "      <th>2</th>\n",
       "      <td>3</td>\n",
       "      <td>서울우유 속편한 저지방 900ml*2입</td>\n",
       "      <td>784.094200</td>\n",
       "      <td>2952810</td>\n",
       "    </tr>\n",
       "    <tr>\n",
       "      <th>3</th>\n",
       "      <td>4</td>\n",
       "      <td>서울우유 2.3L</td>\n",
       "      <td>706.492376</td>\n",
       "      <td>3635150</td>\n",
       "    </tr>\n",
       "    <tr>\n",
       "      <th>4</th>\n",
       "      <td>5</td>\n",
       "      <td>덴마크 산양우유 750ml</td>\n",
       "      <td>428.624000</td>\n",
       "      <td>53820</td>\n",
       "    </tr>\n",
       "    <tr>\n",
       "      <th>...</th>\n",
       "      <td>...</td>\n",
       "      <td>...</td>\n",
       "      <td>...</td>\n",
       "      <td>...</td>\n",
       "    </tr>\n",
       "    <tr>\n",
       "      <th>466</th>\n",
       "      <td>467</td>\n",
       "      <td>파스퇴르 소화가 잘되는 우유(700ml*2입)</td>\n",
       "      <td>-36.012194</td>\n",
       "      <td>9960</td>\n",
       "    </tr>\n",
       "    <tr>\n",
       "      <th>467</th>\n",
       "      <td>468</td>\n",
       "      <td>서울 밀크랩 고단백저지방우유 900ml</td>\n",
       "      <td>-36.288400</td>\n",
       "      <td>6080</td>\n",
       "    </tr>\n",
       "    <tr>\n",
       "      <th>468</th>\n",
       "      <td>469</td>\n",
       "      <td>서울우유 그린라벨 1L</td>\n",
       "      <td>-40.151206</td>\n",
       "      <td>6560</td>\n",
       "    </tr>\n",
       "    <tr>\n",
       "      <th>469</th>\n",
       "      <td>470</td>\n",
       "      <td>고칼슘 저지방 소화 잘되는 우유 900ML</td>\n",
       "      <td>-43.859106</td>\n",
       "      <td>8680</td>\n",
       "    </tr>\n",
       "    <tr>\n",
       "      <th>470</th>\n",
       "      <td>471</td>\n",
       "      <td>남양 맛있는우유GT 저지방 2입(900ml*2)</td>\n",
       "      <td>-62.497788</td>\n",
       "      <td>11200</td>\n",
       "    </tr>\n",
       "  </tbody>\n",
       "</table>\n",
       "<p>471 rows × 4 columns</p>\n",
       "</div>"
      ],
      "text/plain": [
       "     RANK                     PRDT_NM        score  all_sale\n",
       "0       1      남양 맛있는우유GT 2입(900ml*2)  1315.746026   5069700\n",
       "1       2                     서울우유 1L   788.310198   1993900\n",
       "2       3       서울우유 속편한 저지방 900ml*2입   784.094200   2952810\n",
       "3       4                   서울우유 2.3L   706.492376   3635150\n",
       "4       5              덴마크 산양우유 750ml   428.624000     53820\n",
       "..    ...                         ...          ...       ...\n",
       "466   467   파스퇴르 소화가 잘되는 우유(700ml*2입)   -36.012194      9960\n",
       "467   468       서울 밀크랩 고단백저지방우유 900ml   -36.288400      6080\n",
       "468   469                서울우유 그린라벨 1L   -40.151206      6560\n",
       "469   470     고칼슘 저지방 소화 잘되는 우유 900ML   -43.859106      8680\n",
       "470   471  남양 맛있는우유GT 저지방 2입(900ml*2)   -62.497788     11200\n",
       "\n",
       "[471 rows x 4 columns]"
      ]
     },
     "execution_count": 29,
     "metadata": {},
     "output_type": "execute_result"
    }
   ],
   "source": [
    "df_Rank"
   ]
  },
  {
   "cell_type": "code",
   "execution_count": null,
   "id": "db2b6a55",
   "metadata": {},
   "outputs": [],
   "source": []
  },
  {
   "cell_type": "code",
   "execution_count": null,
   "id": "dd33d946",
   "metadata": {},
   "outputs": [],
   "source": []
  }
 ],
 "metadata": {
  "kernelspec": {
   "display_name": "Python 3",
   "language": "python",
   "name": "python3"
  },
  "language_info": {
   "codemirror_mode": {
    "name": "ipython",
    "version": 3
   },
   "file_extension": ".py",
   "mimetype": "text/x-python",
   "name": "python",
   "nbconvert_exporter": "python",
   "pygments_lexer": "ipython3",
   "version": "3.8.8"
  },
  "nbTranslate": {
   "displayLangs": [
    "*"
   ],
   "hotkey": "alt-t",
   "langInMainMenu": true,
   "sourceLang": "en",
   "targetLang": "fr",
   "useGoogleTranslate": true
  },
  "toc": {
   "base_numbering": 1,
   "nav_menu": {},
   "number_sections": true,
   "sideBar": true,
   "skip_h1_title": false,
   "title_cell": "Table of Contents",
   "title_sidebar": "Contents",
   "toc_cell": false,
   "toc_position": {
    "height": "calc(100% - 180px)",
    "left": "10px",
    "top": "150px",
    "width": "469.01px"
   },
   "toc_section_display": true,
   "toc_window_display": true
  },
  "varInspector": {
   "cols": {
    "lenName": 16,
    "lenType": 16,
    "lenVar": 40
   },
   "kernels_config": {
    "python": {
     "delete_cmd_postfix": "",
     "delete_cmd_prefix": "del ",
     "library": "var_list.py",
     "varRefreshCmd": "print(var_dic_list())"
    },
    "r": {
     "delete_cmd_postfix": ") ",
     "delete_cmd_prefix": "rm(",
     "library": "var_list.r",
     "varRefreshCmd": "cat(var_dic_list()) "
    }
   },
   "types_to_exclude": [
    "module",
    "function",
    "builtin_function_or_method",
    "instance",
    "_Feature"
   ],
   "window_display": false
  }
 },
 "nbformat": 4,
 "nbformat_minor": 5
}
